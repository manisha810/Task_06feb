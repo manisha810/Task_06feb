{
 "cells": [
  {
   "cell_type": "markdown",
   "id": "41390210-e5a2-46bc-bbfb-f1de54b88450",
   "metadata": {},
   "source": [
    "Q1. Create a function which will take a list as an argument and return the product of all the numbers\n",
    "after creating a flat list.\n",
    "Use the below-given list as an argument for your function.\n",
    "list1 = [1,2,3,4, [44,55,66, True], False, (34,56,78,89,34), {1,2,3,3,2,1}, {1:34, \"key2\": [55, 67, 78, 89], 4: (45,\n",
    "22, 61, 34)}, [56, 'data science'], 'Machine Learning']"
   ]
  },
  {
   "cell_type": "code",
   "execution_count": null,
   "id": "5d8c63c0-0362-4baf-90e0-5f6bfd4c6bb6",
   "metadata": {},
   "outputs": [],
   "source": [
    "list1 = [1,2,3,4, [44,55,66, True], False, (34,56,78,89,34), {1,2,3,3,2,1}, {1:34, \"key2\": [55, 67, 78, 89], 4: (45,\n",
    "22, 61, 34)}, [56, 'data science'], 'Machine Learning']"
   ]
  },
  {
   "cell_type": "code",
   "execution_count": null,
   "id": "bcd3ad1c-8fdd-4d0b-8934-692fdb37c345",
   "metadata": {},
   "outputs": [],
   "source": [
    "def flat_list(lis):\n",
    "    flat = []\n",
    "    for i in lis:\n",
    "        if type(i) == int or type (i)== str or type(i) == bool:\n",
    "            flat.append(i)\n",
    "        elif type(i) == list or type(i) == set or type(i) == tuple:\n",
    "            for j in i:\n",
    "                flat.append(j)\n",
    "        elif type(i) == dict:\n",
    "            for k in i.items():\n",
    "                flat.append(k[0])\n",
    "                if type(k[1]) == int or type(k[1])== str or type(k[1])==bool:\n",
    "                    flat.append(k[1])\n",
    "                else:\n",
    "                    for l in k[1]:\n",
    "                        flat.append(l)\n",
    "    num_flat = []\n",
    "    for i in flat:\n",
    "        if type(i) == int:\n",
    "            num_flat.append(i)\n",
    "    product = 1\n",
    "    for i in num_flat:\n",
    "        product = product * i\n",
    "    return flat, product\n",
    "\n",
    "print(f\"Flat list : {flat_list(list1)[0]}\")\n",
    "print(f\"Product of numeric data : {flat_list(list1)[1]}\")"
   ]
  },
  {
   "cell_type": "markdown",
   "id": "65451d0c-d4fd-4b97-a8f8-3e4fb4fdde15",
   "metadata": {},
   "source": [
    "Q2..\n",
    "Write a python program for encrypting a message sent to you by your friend. The logic of encryption\n",
    "should be such that, for a the output should be z. For b, the output should be y. For c, the output should\n",
    "be x respectively. Also, the whitespace should be replaced with a dollar sign. Keep the punctuation\n",
    "marks unchanged.\n",
    "Input Sentence: I want to become a Data Scientist.\n",
    "Encrypt the above input sentence using the program you just created."
   ]
  },
  {
   "cell_type": "code",
   "execution_count": null,
   "id": "2f4a4a0f-6a3e-4f36-aa43-1e57eae57e34",
   "metadata": {},
   "outputs": [],
   "source": [
    "from cryptography.fernet import Fernet\n",
    "\n",
    "message = \"I want to become a Data Scientist.\" \n",
    "key = Fernet.generate_key() \n",
    "fernet = Fernet(key)\n",
    "encMessage = fernet.encrypt(message.encode())\n",
    " \n",
    "print(\"original string: \", message)\n",
    "print(\"encrypted string: \", encMessage)"
   ]
  }
 ],
 "metadata": {
  "kernelspec": {
   "display_name": "Python 3 (ipykernel)",
   "language": "python",
   "name": "python3"
  },
  "language_info": {
   "codemirror_mode": {
    "name": "ipython",
    "version": 3
   },
   "file_extension": ".py",
   "mimetype": "text/x-python",
   "name": "python",
   "nbconvert_exporter": "python",
   "pygments_lexer": "ipython3",
   "version": "3.10.8"
  }
 },
 "nbformat": 4,
 "nbformat_minor": 5
}
