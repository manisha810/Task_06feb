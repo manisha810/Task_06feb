{
 "cells": [
  {
   "cell_type": "markdown",
   "id": "41390210-e5a2-46bc-bbfb-f1de54b88450",
   "metadata": {},
   "source": [
    "Q1. Create a function which will take a list as an argument and return the product of all the numbers\n",
    "after creating a flat list.\n",
    "Use the below-given list as an argument for your function.\n",
    "list1 = [1,2,3,4, [44,55,66, True], False, (34,56,78,89,34), {1,2,3,3,2,1}, {1:34, \"key2\": [55, 67, 78, 89], 4: (45,\n",
    "22, 61, 34)}, [56, 'data science'], 'Machine Learning']"
   ]
  },
  {
   "cell_type": "code",
   "execution_count": null,
   "id": "5d8c63c0-0362-4baf-90e0-5f6bfd4c6bb6",
   "metadata": {},
   "outputs": [],
   "source": [
    "list1 = [1,2,3,4, [44,55,66, True], False, (34,56,78,89,34), {1,2,3,3,2,1}, {1:34, \"key2\": [55, 67, 78, 89], 4: (45,\n",
    "22, 61, 34)}, [56, 'data science'], 'Machine Learning']"
   ]
  },
  {
   "cell_type": "code",
   "execution_count": 7,
   "id": "40daaec6-4eec-49af-9aa1-101b71ffce5e",
   "metadata": {},
   "outputs": [
    {
     "name": "stdout",
     "output_type": "stream",
     "text": [
      "Flat list : [1, 2, 3, 4, 44, 55, 66, True, False, 34, 56, 78, 89, 34, 1, 2, 3, 1, 34, 'key2', 55, 67, 78, 89, 4, 45, 22, 61, 34, 56, 'data science', 'Machine Learning']\n",
      "Product of numeric data : 4134711838987085478833841242112000\n"
     ]
    }
   ],
   "source": [
    "def flat_list(lis):\n",
    "    flat = []\n",
    "    for i in lis:\n",
    "        if type(i) == int or type (i)== str or type(i) == bool:\n",
    "            flat.append(i)\n",
    "        elif type(i) == list or type(i) == set or type(i) == tuple:\n",
    "            for j in i:\n",
    "                flat.append(j)\n",
    "        elif type(i) == dict:\n",
    "            for k in i.items():\n",
    "                flat.append(k[0])\n",
    "                if type(k[1]) == int or type(k[1])== str or type(k[1])==bool:\n",
    "                    flat.append(k[1])\n",
    "                else:\n",
    "                    for l in k[1]:\n",
    "                        flat.append(l)\n",
    "    num_flat = []\n",
    "    for i in flat:\n",
    "        if type(i) == int:\n",
    "            num_flat.append(i)\n",
    "    product = 1\n",
    "    for i in num_flat:\n",
    "        product = product * i\n",
    "    return flat, product\n",
    "\n",
    "print(f\"Flat list : {flat_list(list1)[0]}\")\n",
    "print(f\"Product of numeric data : {flat_list(list1)[1]}\")"
   ]
  },
  {
   "cell_type": "markdown",
   "id": "65451d0c-d4fd-4b97-a8f8-3e4fb4fdde15",
   "metadata": {},
   "source": [
    "Q2..\n",
    "Write a python program for encrypting a message sent to you by your friend. The logic of encryption\n",
    "should be such that, for a the output should be z. For b, the output should be y. For c, the output should\n",
    "be x respectively. Also, the whitespace should be replaced with a dollar sign. Keep the punctuation\n",
    "marks unchanged.\n",
    "Input Sentence: I want to become a Data Scientist.\n",
    "Encrypt the above input sentence using the program you just created."
   ]
  },
  {
   "cell_type": "code",
   "execution_count": 9,
   "id": "e9c8e771-bd49-475a-8a2b-6eb3bef083fa",
   "metadata": {},
   "outputs": [
    {
     "ename": "NameError",
     "evalue": "name 'plain_text' is not defined",
     "output_type": "error",
     "traceback": [
      "\u001b[0;31m---------------------------------------------------------------------------\u001b[0m",
      "\u001b[0;31mNameError\u001b[0m                                 Traceback (most recent call last)",
      "Cell \u001b[0;32mIn[9], line 13\u001b[0m\n\u001b[1;32m     10\u001b[0m text \u001b[38;5;241m=\u001b[39m \u001b[38;5;124m\"\u001b[39m\u001b[38;5;124mI want to become a Data Scientist\u001b[39m\u001b[38;5;124m\"\u001b[39m\n\u001b[1;32m     11\u001b[0m chiper_text \u001b[38;5;241m=\u001b[39m \u001b[38;5;124m\"\u001b[39m\u001b[38;5;124m \u001b[39m\u001b[38;5;124m\"\u001b[39m\n\u001b[0;32m---> 13\u001b[0m \u001b[38;5;28;01mfor\u001b[39;00m letter \u001b[38;5;129;01min\u001b[39;00m \u001b[43mplain_text\u001b[49m:\n\u001b[1;32m     14\u001b[0m     index \u001b[38;5;241m=\u001b[39m char\u001b[38;5;241m.\u001b[39mindex(letter)\n\u001b[1;32m     15\u001b[0m     chiper_text \u001b[38;5;241m+\u001b[39m\u001b[38;5;241m=\u001b[39m ley[index]\n",
      "\u001b[0;31mNameError\u001b[0m: name 'plain_text' is not defined"
     ]
    }
   ],
   "source": [
    "import random \n",
    "import string \n",
    "\n",
    "char = \" \" + string.punctuation + string.digits + string.ascii_letters\n",
    "char = list(char)\n",
    "key = char.copy()\n",
    "\n",
    "random.shuffle(key)\n",
    "\n",
    "text = \"I want to become a Data Scientist\"\n",
    "chiper_text = \" \"\n",
    "\n",
    "for letter in plain_text:\n",
    "    index = char.index(letter)\n",
    "    chiper_text += ley[index]\n",
    "    \n",
    "print(f\"Endrypted message: {chiper_text}\")"
   ]
  },
  {
   "cell_type": "code",
   "execution_count": null,
   "id": "c3073124-e31c-4b48-8155-17abd5c07727",
   "metadata": {},
   "outputs": [],
   "source": [
    "\n",
    "import random\n",
    "import string\n",
    "\n",
    "chars = \" \" + string.punctuation + string.digits + string.ascii_letters\n",
    "chars = list(chars)\n",
    "key = chars.copy()\n",
    "\n",
    "random.shuffle(key)\n",
    "\n",
    "#ENCRYPT\n",
    "text = input(\"Enter a message to encrypt: \")\n",
    "cipher_text = \"\"\n",
    "\n",
    "for letter in plain_text:\n",
    "    index = chars.index(letter)\n",
    "    cipher_text += key[index]\n",
    "\n",
    "print(f\"encrypted message: {cipher_text}\")"
   ]
  }
 ],
 "metadata": {
  "kernelspec": {
   "display_name": "Python 3 (ipykernel)",
   "language": "python",
   "name": "python3"
  },
  "language_info": {
   "codemirror_mode": {
    "name": "ipython",
    "version": 3
   },
   "file_extension": ".py",
   "mimetype": "text/x-python",
   "name": "python",
   "nbconvert_exporter": "python",
   "pygments_lexer": "ipython3",
   "version": "3.10.8"
  }
 },
 "nbformat": 4,
 "nbformat_minor": 5
}
